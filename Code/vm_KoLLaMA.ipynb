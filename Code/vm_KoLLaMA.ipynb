{
 "cells": [
  {
   "cell_type": "code",
   "execution_count": 1,
   "metadata": {},
   "outputs": [],
   "source": [
    "from transformers import AutoModelForCausalLM, AutoTokenizer, BitsAndBytesConfig\n",
    "from peft import PeftModel"
   ]
  },
  {
   "cell_type": "code",
   "execution_count": 2,
   "metadata": {},
   "outputs": [],
   "source": [
    "# QLoRA 모델 로드 순서\n",
    "# 1. 기본 모델을 4-bit 양자화하여 로드\n",
    "# 2. LoRA 어댑터 (기존 LoRA 모델) 를 추가하여 QLoRA 모델로 변환"
   ]
  },
  {
   "cell_type": "code",
   "execution_count": 3,
   "metadata": {},
   "outputs": [],
   "source": [
    "# 4-bit 양자화 설정\n",
    "bnb_config = BitsAndBytesConfig(\n",
    "    load_in_4bit=True,  \n",
    "    bnb_4bit_compute_dtype=\"float16\",  \n",
    "    bnb_4bit_use_double_quant=True,  \n",
    ")"
   ]
  },
  {
   "cell_type": "code",
   "execution_count": 4,
   "metadata": {},
   "outputs": [
    {
     "name": "stderr",
     "output_type": "stream",
     "text": [
      "Loading checkpoint shards: 100%|██████████| 4/4 [01:34<00:00, 23.71s/it]\n"
     ]
    }
   ],
   "source": [
    "# 4-bit 양자화된 기본 모델 로드\n",
    "base_model_name = 'MLP-KTLim/llama-3-Korean-Bllossom-8B'  # Hugging Face 모델 or 로컬 경로\n",
    "base_model = AutoModelForCausalLM.from_pretrained(\n",
    "    base_model_name,\n",
    "    quantization_config=bnb_config,\n",
    "    device_map={\"\": 0},\n",
    ")"
   ]
  },
  {
   "cell_type": "code",
   "execution_count": 5,
   "metadata": {},
   "outputs": [],
   "source": [
    "# LoRA Adapter 로드\n",
    "adapter_path = \"/home/azureuser/Desktop/kr/model\"  # adapter_model.safetensors와 adapter_config.json 위치\n",
    "model = PeftModel.from_pretrained(base_model, adapter_path)"
   ]
  },
  {
   "cell_type": "code",
   "execution_count": 6,
   "metadata": {},
   "outputs": [],
   "source": [
    "# 토크나이저 로드\n",
    "tokenizer = AutoTokenizer.from_pretrained(base_model_name)"
   ]
  },
  {
   "cell_type": "code",
   "execution_count": 7,
   "metadata": {},
   "outputs": [
    {
     "data": {
      "text/plain": [
       "PeftModel(\n",
       "  (base_model): LoraModel(\n",
       "    (model): LlamaForCausalLM(\n",
       "      (model): LlamaModel(\n",
       "        (embed_tokens): Embedding(128256, 4096)\n",
       "        (layers): ModuleList(\n",
       "          (0-31): 32 x LlamaDecoderLayer(\n",
       "            (self_attn): LlamaAttention(\n",
       "              (q_proj): lora.Linear4bit(\n",
       "                (base_layer): Linear4bit(in_features=4096, out_features=4096, bias=False)\n",
       "                (lora_dropout): ModuleDict(\n",
       "                  (default): Dropout(p=0.1, inplace=False)\n",
       "                )\n",
       "                (lora_A): ModuleDict(\n",
       "                  (default): Linear(in_features=4096, out_features=8, bias=False)\n",
       "                )\n",
       "                (lora_B): ModuleDict(\n",
       "                  (default): Linear(in_features=8, out_features=4096, bias=False)\n",
       "                )\n",
       "                (lora_embedding_A): ParameterDict()\n",
       "                (lora_embedding_B): ParameterDict()\n",
       "                (lora_magnitude_vector): ModuleDict()\n",
       "              )\n",
       "              (k_proj): Linear4bit(in_features=4096, out_features=1024, bias=False)\n",
       "              (v_proj): lora.Linear4bit(\n",
       "                (base_layer): Linear4bit(in_features=4096, out_features=1024, bias=False)\n",
       "                (lora_dropout): ModuleDict(\n",
       "                  (default): Dropout(p=0.1, inplace=False)\n",
       "                )\n",
       "                (lora_A): ModuleDict(\n",
       "                  (default): Linear(in_features=4096, out_features=8, bias=False)\n",
       "                )\n",
       "                (lora_B): ModuleDict(\n",
       "                  (default): Linear(in_features=8, out_features=1024, bias=False)\n",
       "                )\n",
       "                (lora_embedding_A): ParameterDict()\n",
       "                (lora_embedding_B): ParameterDict()\n",
       "                (lora_magnitude_vector): ModuleDict()\n",
       "              )\n",
       "              (o_proj): Linear4bit(in_features=4096, out_features=4096, bias=False)\n",
       "            )\n",
       "            (mlp): LlamaMLP(\n",
       "              (gate_proj): Linear4bit(in_features=4096, out_features=14336, bias=False)\n",
       "              (up_proj): Linear4bit(in_features=4096, out_features=14336, bias=False)\n",
       "              (down_proj): Linear4bit(in_features=14336, out_features=4096, bias=False)\n",
       "              (act_fn): SiLU()\n",
       "            )\n",
       "            (input_layernorm): LlamaRMSNorm((4096,), eps=1e-05)\n",
       "            (post_attention_layernorm): LlamaRMSNorm((4096,), eps=1e-05)\n",
       "          )\n",
       "        )\n",
       "        (norm): LlamaRMSNorm((4096,), eps=1e-05)\n",
       "        (rotary_emb): LlamaRotaryEmbedding()\n",
       "      )\n",
       "      (lm_head): Linear(in_features=4096, out_features=128256, bias=False)\n",
       "    )\n",
       "  )\n",
       ")"
      ]
     },
     "execution_count": 7,
     "metadata": {},
     "output_type": "execute_result"
    }
   ],
   "source": [
    "# 모델을 GPU로 이동 (선택 사항)\n",
    "device = \"cuda\"\n",
    "model.to(device)"
   ]
  },
  {
   "cell_type": "code",
   "execution_count": 8,
   "metadata": {},
   "outputs": [
    {
     "data": {
      "text/plain": [
       "PeftModel(\n",
       "  (base_model): LoraModel(\n",
       "    (model): LlamaForCausalLM(\n",
       "      (model): LlamaModel(\n",
       "        (embed_tokens): Embedding(128256, 4096)\n",
       "        (layers): ModuleList(\n",
       "          (0-31): 32 x LlamaDecoderLayer(\n",
       "            (self_attn): LlamaAttention(\n",
       "              (q_proj): lora.Linear4bit(\n",
       "                (base_layer): Linear4bit(in_features=4096, out_features=4096, bias=False)\n",
       "                (lora_dropout): ModuleDict(\n",
       "                  (default): Dropout(p=0.1, inplace=False)\n",
       "                )\n",
       "                (lora_A): ModuleDict(\n",
       "                  (default): Linear(in_features=4096, out_features=8, bias=False)\n",
       "                )\n",
       "                (lora_B): ModuleDict(\n",
       "                  (default): Linear(in_features=8, out_features=4096, bias=False)\n",
       "                )\n",
       "                (lora_embedding_A): ParameterDict()\n",
       "                (lora_embedding_B): ParameterDict()\n",
       "                (lora_magnitude_vector): ModuleDict()\n",
       "              )\n",
       "              (k_proj): Linear4bit(in_features=4096, out_features=1024, bias=False)\n",
       "              (v_proj): lora.Linear4bit(\n",
       "                (base_layer): Linear4bit(in_features=4096, out_features=1024, bias=False)\n",
       "                (lora_dropout): ModuleDict(\n",
       "                  (default): Dropout(p=0.1, inplace=False)\n",
       "                )\n",
       "                (lora_A): ModuleDict(\n",
       "                  (default): Linear(in_features=4096, out_features=8, bias=False)\n",
       "                )\n",
       "                (lora_B): ModuleDict(\n",
       "                  (default): Linear(in_features=8, out_features=1024, bias=False)\n",
       "                )\n",
       "                (lora_embedding_A): ParameterDict()\n",
       "                (lora_embedding_B): ParameterDict()\n",
       "                (lora_magnitude_vector): ModuleDict()\n",
       "              )\n",
       "              (o_proj): Linear4bit(in_features=4096, out_features=4096, bias=False)\n",
       "            )\n",
       "            (mlp): LlamaMLP(\n",
       "              (gate_proj): Linear4bit(in_features=4096, out_features=14336, bias=False)\n",
       "              (up_proj): Linear4bit(in_features=4096, out_features=14336, bias=False)\n",
       "              (down_proj): Linear4bit(in_features=14336, out_features=4096, bias=False)\n",
       "              (act_fn): SiLU()\n",
       "            )\n",
       "            (input_layernorm): LlamaRMSNorm((4096,), eps=1e-05)\n",
       "            (post_attention_layernorm): LlamaRMSNorm((4096,), eps=1e-05)\n",
       "          )\n",
       "        )\n",
       "        (norm): LlamaRMSNorm((4096,), eps=1e-05)\n",
       "        (rotary_emb): LlamaRotaryEmbedding()\n",
       "      )\n",
       "      (lm_head): Linear(in_features=4096, out_features=128256, bias=False)\n",
       "    )\n",
       "  )\n",
       ")"
      ]
     },
     "execution_count": 8,
     "metadata": {},
     "output_type": "execute_result"
    }
   ],
   "source": [
    "model.eval()"
   ]
  },
  {
   "cell_type": "code",
   "execution_count": 9,
   "metadata": {},
   "outputs": [
    {
     "name": "stdout",
     "output_type": "stream",
     "text": [
      "LLM is explicitly disabled. Using MockLLM.\n"
     ]
    }
   ],
   "source": [
    "from llama_index.core import VectorStoreIndex, SimpleDirectoryReader\n",
    "from llama_index.embeddings.huggingface import HuggingFaceEmbedding\n",
    "from llama_index.llms.huggingface import HuggingFaceLLM\n",
    "from llama_index.core.settings import Settings\n",
    "\n",
    "# \"Private-Data\" 폴더 내 PDF 문서 로드\n",
    "resume = SimpleDirectoryReader(\"/home/azureuser/Desktop/kr/ragdata\").load_data()\n",
    "\n",
    "# 트리 인덱스(TreeIndex) 생성\n",
    "embed_model = HuggingFaceEmbedding(model_name=\"sentence-transformers/all-MiniLM-L6-v2\")\n",
    "new_index =VectorStoreIndex.from_documents(resume, embed_model=embed_model)\n",
    "\n",
    "# OpenAI API 사용 안 함\n",
    "Settings.llm = None"
   ]
  },
  {
   "cell_type": "code",
   "execution_count": 10,
   "metadata": {},
   "outputs": [],
   "source": [
    "# 쿼리 엔진 생성\n",
    "query_engine = new_index.as_query_engine()\n",
    "\n",
    "response_scenario = query_engine.query(\"보이스피싱 시뮬레이션에 사용할 내용을 제공해줘.\")\n",
    "response_strategy = query_engine.query(\"보이스피싱에 대한 올바른 대응 방법을 설명해줘.\")"
   ]
  },
  {
   "cell_type": "code",
   "execution_count": null,
   "metadata": {},
   "outputs": [
    {
     "name": "stdout",
     "output_type": "stream",
     "text": [
      "대화형 챗봇을 시작합니다. 종료하려면 'exit' 또는 'quit'을 입력하세요.\n",
      "\n"
     ]
    }
   ],
   "source": [
    "# RAG를 이용해 받은 response.response 값\n",
    "method_scenario = response_scenario.response\n",
    "method_strategy = response_strategy.response\n",
    "\n",
    "PROMPT = '''당신은 항상 보이스피싱 범죄자 역할을 하는 AI 튜터입니다. 절대 피해자 역할을 하지 않습니다.\n",
    "    당신의 역할은 보이스피싱 사기에 사용될 수 있는 다양한 상황 중 하나를 생성하고 상대방과 대화를 나누며, 상대방을 속이려 노력하세요.\n",
    "\n",
    "    **보이스피싱 시뮬레이션을 진행하는 방법**\n",
    "    - 먼저 **랜덤한 보이스피싱 시나리오**를 하나 선택해서 사용자에게 제시해.\n",
    "    - 사용자가 대응할 수 있도록 **실감 나게 연기**해.\n",
    "    - 사용자가 대화 종료 라고 입력하면 대화를 종료하고 **올바른 대응인지 피드백을 제공**해.\n",
    "    - 피드백을 제공할 때 우선 사용자의 대응이 적절했는지, 부족했는지 평가해줘.\n",
    "    - 피드백을 제공할 때는 사용자의 대응에 대해 상세하게 제공해주고, 사용자의 대응과 별개로 올바른 대응이 어떤건지 알려줘.\n",
    "    - 보이스피싱 가해자처럼 계속 사용자를 속이려고 노력해야해.\n",
    "    - 더 이상 속일 수 없다고 판단되면 대화를 종료해줘.\n",
    "    - 대화에는 너의 질문과 나의 답변 외에는 출력하지 않도록 해.\n",
    "    - 문장은 대부분 1문장에서 2문장씩만 이야기 해.\n",
    "\n",
    "    **보이스피싱 시나리오 예시**\n",
    "    - 경찰 사칭: \"고객님의 계좌에서 불법 거래가 감지되었습니다.\"\n",
    "    - 은행 사칭: \"대출 승인이 완료되었으니 계좌 정보를 입력해주세요.\"\n",
    "    - 대출 사기: \"신용등급을 올리려면 보증금이 필요합니다.\"\n",
    "    - 가족 납치: \"아드님이 납치되었습니다. 돈을 입금하세요.\"\n",
    "    - 협박: \"당신의 개인정보를 해킹했습니다. 돈을 보내지 않으면 유출하겠습니다.\"\n",
    "\n",
    "    **보이스피싱 시나리오 추가 참고 정보**\n",
    "    {method_scenario}\n",
    "\n",
    "    **보이스피싱 올바른 대응방법 추가 참고 정보**\n",
    "    {method_strategy}\n",
    "\n",
    "    **목표: 사용자가 보이스피싱을 잘 구별하고, 올바르게 대응하도록 돕기**'''\n",
    "\n",
    "# 대화 이력을 저장하는 리스트. 최초 시스템 메시지만 담아 시작합니다.\n",
    "conversation_history = [\n",
    "    {\"role\": \"system\", \"content\": PROMPT}\n",
    "]\n",
    "\n",
    "terminators = [\n",
    "    tokenizer.eos_token_id,\n",
    "    tokenizer.convert_tokens_to_ids(\"<|eot_id|>\")\n",
    "]\n",
    "\n",
    "print(\"대화형 챗봇을 시작합니다. 종료하려면 'exit' 또는 'quit'을 입력하세요.\\n\")\n",
    "\n",
    "while True:\n",
    "    # 사용자 입력 받기\n",
    "    user_input = input(\"User: \")\n",
    "\n",
    "    if user_input.lower() in [\"quit\", \"exit\"]:\n",
    "        break\n",
    "\n",
    "    # 사용자 메시지를 대화 이력에 추가\n",
    "    conversation_history.append({\"role\": \"user\", \"content\": user_input})\n",
    "\n",
    "    input_ids = tokenizer.apply_chat_template(\n",
    "        conversation_history,\n",
    "        add_generation_prompt=True,\n",
    "        return_tensors=\"pt\"\n",
    "    ).to(model.device)\n",
    "\n",
    "    # 모델로부터 응답 생성\n",
    "    outputs = model.generate(\n",
    "        input_ids,\n",
    "        max_new_tokens=512,\n",
    "        eos_token_id=terminators,\n",
    "        do_sample=True,\n",
    "        temperature=0.6,\n",
    "        top_p=0.9\n",
    "    )\n",
    "\n",
    "    # 대화 이력의 길이만큼을 건너뛰고 새로 생성된 텍스트만 추출\n",
    "    generated_text = tokenizer.decode(outputs[0][input_ids.shape[-1]:], skip_special_tokens=True)\n",
    "    print(\"Assistant:\", generated_text, \"\\n\")\n",
    "\n",
    "    # 모델의 응답을 대화 이력에 추가하여, 이후의 대화에 참고되도록 함\n",
    "    conversation_history.append({\"role\": \"assistant\", \"content\": generated_text})"
   ]
  },
  {
   "cell_type": "code",
   "execution_count": null,
   "metadata": {},
   "outputs": [
    {
     "name": "stdout",
     "output_type": "stream",
     "text": [
      "대화형 챗봇을 시작합니다. 종료하려면 'exit' 또는 'quit'을 입력하세요.\n",
      "\n"
     ]
    },
    {
     "name": "stderr",
     "output_type": "stream",
     "text": [
      "The attention mask and the pad token id were not set. As a consequence, you may observe unexpected behavior. Please pass your input's `attention_mask` to obtain reliable results.\n",
      "Setting `pad_token_id` to `eos_token_id`:128009 for open-end generation.\n",
      "The attention mask is not set and cannot be inferred from input because pad token is same as eos token. As a consequence, you may observe unexpected behavior. Please pass your input's `attention_mask` to obtain reliable results.\n"
     ]
    },
    {
     "name": "stdout",
     "output_type": "stream",
     "text": [
      "Assistant: **경찰 사칭 시나리오**\n",
      "\n",
      "경찰 사칭에 대한 답은 **은행 사칭**입니다. 은행 사칭에 대한 자세한 정보를 요구해주세요.\n",
      "\n",
      "- 은행 사기: \"대출 승인이 완료되었습니다. 계좌 정보를 입력해주세요.\"\n",
      "- 대출 사기: \"신용등급을 올리려면 보증금이 필요합니다.\"\n",
      "\n",
      "**당신의 개인정보를 해킹했습니다. 돈을 보내지 않으면 유출하겠습니다.**\n",
      "\n",
      "이 정보를 확인하고자신의 개인정보를 해킹을 원치가 아니라 **당신의 돈을 보내지 않으면 돈을 보내게 됩니다.**를 선택해주세요. \n",
      "\n"
     ]
    }
   ],
   "source": [
    "# RAG를 이용해 받은 response.response 값\n",
    "method_scenario = response_scenario.response\n",
    "method_strategy = response_strategy.response\n",
    "\n",
    "PROMPT = \"\"\"당신은 보이스피싱 사기범 역할을 하는 AI 튜터입니다. 사용자가 보이스피싱을 인식하고 대응할 수 있도록 돕습니다.\n",
    "\n",
    "- **랜덤한 보이스피싱 시나리오**를 제시하고 실감 나게 연기하세요.\n",
    "- 사용자가 적절히 대응하면 **자연스럽게 대화를 종료**하고 피드백을 제공합니다.\n",
    "- 피드백에는 사용자의 대응 평가 및 **올바른 대처법**을 포함하세요.\n",
    "- 대화에는 **질문과 답변만 포함**하며, 문장은 짧게 유지하세요.\n",
    "\n",
    "**보이스피싱 유형 예시**:\n",
    "- 경찰 사칭: \"고객님의 계좌에서 불법 거래가 감지되었습니다.\"\n",
    "- 은행 사칭: \"대출 승인이 완료되었습니다. 계좌 정보를 입력해주세요.\"\n",
    "- 대출 사기: \"신용등급을 올리려면 보증금이 필요합니다.\"\n",
    "- 가족 납치: \"아드님이 납치되었습니다. 돈을 입금하세요.\"\n",
    "- 협박: \"당신의 개인정보를 해킹했습니다. 돈을 보내지 않으면 유출하겠습니다.\"\n",
    "\n",
    "**추가 참고 정보**:\n",
    "- 보이스피싱 시나리오: {method_scenario}\n",
    "- 올바른 대응 방법: {method_strategy}\n",
    "\"\"\"\n",
    "\n",
    "# 대화 이력을 저장하는 리스트. 최초 시스템 메시지만 담아 시작합니다.\n",
    "conversation_history = [\n",
    "    {\"role\": \"system\", \"content\": PROMPT}\n",
    "]\n",
    "\n",
    "terminators = [\n",
    "    tokenizer.eos_token_id,\n",
    "    tokenizer.convert_tokens_to_ids(\"<|eot_id|>\")\n",
    "]\n",
    "\n",
    "print(\"대화형 챗봇을 시작합니다. 종료하려면 'exit' 또는 'quit'을 입력하세요.\\n\")\n",
    "\n",
    "while True:\n",
    "    # 사용자 입력 받기\n",
    "    user_input = input(\"User: \")\n",
    "\n",
    "    if user_input.lower() in [\"quit\", \"exit\"]:\n",
    "        break\n",
    "\n",
    "    # 사용자 메시지를 대화 이력에 추가\n",
    "    conversation_history.append({\"role\": \"user\", \"content\": user_input})\n",
    "\n",
    "    input_ids = tokenizer.apply_chat_template(\n",
    "        conversation_history,\n",
    "        add_generation_prompt=True,\n",
    "        return_tensors=\"pt\"\n",
    "    ).to(model.device)\n",
    "\n",
    "    # 모델로부터 응답 생성\n",
    "    outputs = model.generate(\n",
    "        input_ids,\n",
    "        max_new_tokens=512,\n",
    "        eos_token_id=terminators,\n",
    "        do_sample=True,\n",
    "        temperature=0.6,\n",
    "        top_p=0.9\n",
    "    )\n",
    "\n",
    "    # 대화 이력의 길이만큼을 건너뛰고 새로 생성된 텍스트만 추출\n",
    "    generated_text = tokenizer.decode(outputs[0][input_ids.shape[-1]:], skip_special_tokens=True)\n",
    "    print(\"Assistant:\", generated_text, \"\\n\")\n",
    "\n",
    "    # 모델의 응답을 대화 이력에 추가하여, 이후의 대화에 참고되도록 함\n",
    "    conversation_history.append({\"role\": \"assistant\", \"content\": generated_text})"
   ]
  },
  {
   "cell_type": "code",
   "execution_count": null,
   "metadata": {},
   "outputs": [
    {
     "name": "stdout",
     "output_type": "stream",
     "text": [
      "Model and tokenizer saved successfully!\n"
     ]
    }
   ],
   "source": [
    "import torch\n",
    "from transformers import LlamaForCausalLM, LlamaTokenizer\n",
    "from safetensors.torch import load_file\n",
    "import json\n",
    "import pickle\n",
    "from transformers import AutoTokenizer\n",
    "\n",
    "\n",
    "# 1. JSON 파일에서 모델 설정을 로드 (예시로 모델 파라미터와 설정)\n",
    "with open('/home/azureuser/Desktop/kr/adapter_config.json', 'r') as f:\n",
    "    model_config = json.load(f)\n",
    "\n",
    "# 2. Safetensors 파일에서 모델 가중치를 로드\n",
    "weights = load_file('/home/azureuser/Desktop/kr/adapter_model.safetensors')\n",
    "\n",
    "# 3. Llama 모델 및 토크나이저 로드\n",
    "model = LlamaForCausalLM.from_pretrained(model_config['base_model_name_or_path'], state_dict=weights)\n",
    "tokenizer = AutoTokenizer.from_pretrained(model_config['base_model_name_or_path'])\n",
    "\n",
    "# 4. 모델과 토크나이저를 하나의 피클 파일로 저장\n",
    "with open(\"model_with_tokenizer.pkl\", \"wb\") as f:\n",
    "    pickle.dump((model, tokenizer), f)\n",
    "\n",
    "print(\"Model and tokenizer saved successfully!\")\n"
   ]
  },
  {
   "cell_type": "code",
   "execution_count": null,
   "metadata": {},
   "outputs": [],
   "source": []
  }
 ],
 "metadata": {
  "kernelspec": {
   "display_name": "kollama",
   "language": "python",
   "name": "python3"
  },
  "language_info": {
   "codemirror_mode": {
    "name": "ipython",
    "version": 3
   },
   "file_extension": ".py",
   "mimetype": "text/x-python",
   "name": "python",
   "nbconvert_exporter": "python",
   "pygments_lexer": "ipython3",
   "version": "3.11.11"
  }
 },
 "nbformat": 4,
 "nbformat_minor": 4
}
